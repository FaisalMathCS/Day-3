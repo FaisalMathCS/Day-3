{
 "cells": [
  {
   "cell_type": "markdown",
   "metadata": {},
   "source": [
    "# Python_Lab_1.2"
   ]
  },
  {
   "cell_type": "markdown",
   "metadata": {},
   "source": [
    "### Task 1: \n",
    "1. Create a tuple with the following details:\n",
    "    - Your favorite movie (string)\n",
    "    - The year it was released (integer)\n",
    "    - Its rating out of 10 (float)\n",
    "    - Whether you have watched it (boolean)\n",
    "2. Print the detailes"
   ]
  },
  {
   "cell_type": "code",
   "execution_count": 1,
   "metadata": {},
   "outputs": [
    {
     "name": "stdout",
     "output_type": "stream",
     "text": [
      "('Pulp Fiction', 1994, 8.9, True)\n"
     ]
    }
   ],
   "source": [
    "# write your code here ^_^\n",
    "\n",
    "favorite_movie = (\"Pulp Fiction\", 1994, 8.9, True)\n",
    "print(favorite_movie)"
   ]
  },
  {
   "cell_type": "markdown",
   "metadata": {},
   "source": [
    "### Task 2:\n",
    "1. Create a set of 5 favorite colors.\n",
    "2. Print all the colors"
   ]
  },
  {
   "cell_type": "code",
   "execution_count": 2,
   "metadata": {},
   "outputs": [
    {
     "name": "stdout",
     "output_type": "stream",
     "text": [
      "{'grey', 'black', 'light green', 'blue', 'brown'}\n"
     ]
    }
   ],
   "source": [
    "# write your code here ^_^\n",
    "fav_colors = {'black', 'blue', 'light green', 'grey', 'brown'}\n",
    "print(fav_colors)"
   ]
  },
  {
   "cell_type": "markdown",
   "metadata": {},
   "source": [
    "### Task 3:\n",
    "1. Create a dictionary to store information about 3 friends (name as key and a tuple with age and favorite hobby as value).\n",
    "2. Print the details of all friends."
   ]
  },
  {
   "cell_type": "code",
   "execution_count": 3,
   "metadata": {},
   "outputs": [
    {
     "name": "stdout",
     "output_type": "stream",
     "text": [
      "{'Nawaf': (23, 'Video Games'), 'Suliman': (26, 'Movies'), 'Mohammed': (22, 'Video Games')}\n"
     ]
    }
   ],
   "source": [
    "# write your code here ^_^\n",
    "friends = {'Nawaf': (23, 'Video Games'), 'Suliman': (26, 'Movies'), 'Mohammed': (22, 'Video Games')}\n",
    "print(friends)"
   ]
  },
  {
   "cell_type": "markdown",
   "metadata": {},
   "source": [
    "### Task 4:\n",
    "1. Check if you have watched the movie and print an appropriate message.\n",
    "1. Check if a specific color is in your favorite colors set and print its availability status."
   ]
  },
  {
   "cell_type": "code",
   "execution_count": 5,
   "metadata": {},
   "outputs": [
    {
     "name": "stdout",
     "output_type": "stream",
     "text": [
      "I did watch Pulp Fiction\n",
      "The color Red is NOT in my favorite color set!\n"
     ]
    }
   ],
   "source": [
    "# write your code here ^_^\n",
    "if 'Pulp Fiction' == favorite_movie[0] and favorite_movie[-1] == True:\n",
    "    print(\"I did watch Pulp Fiction\")\n",
    "\n",
    "if \"red\" in fav_colors:\n",
    "    print(\"The color RED is in my favorite color set!\")\n",
    "else:\n",
    "    print(\"The color Red is NOT in my favorite color set!\") "
   ]
  }
 ],
 "metadata": {
  "kernelspec": {
   "display_name": "Python 3",
   "language": "python",
   "name": "python3"
  },
  "language_info": {
   "codemirror_mode": {
    "name": "ipython",
    "version": 3
   },
   "file_extension": ".py",
   "mimetype": "text/x-python",
   "name": "python",
   "nbconvert_exporter": "python",
   "pygments_lexer": "ipython3",
   "version": "3.12.3"
  }
 },
 "nbformat": 4,
 "nbformat_minor": 2
}
